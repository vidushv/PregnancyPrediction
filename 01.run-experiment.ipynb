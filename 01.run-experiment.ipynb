{
  "cells": [
    {
      "metadata": {},
      "cell_type": "markdown",
      "source": "Copyright (c) Microsoft Corporation. All rights reserved.\n\nLicensed under the MIT License."
    },
    {
      "metadata": {},
      "cell_type": "markdown",
      "source": "## Introduction to Azure Machine Learning service: Run experiment\n\nIn this example, you'll learn how to use Azure Machine Learning for experimentation. The concepts you'll learn about are workspace, experiment and run.\n\n**Run** is a an execution of Python code that does a machine learning task, such as training a model. Within a run you can log metrics and upload results to Azure cloud, to keep track of your experimentation. \n \nIn this example, the run is a simple notebook cell, but in subsequent tutorials you can learn how to submit different kinds of runs - hyperparameter tuning, automated machine learning, distributed training - to scalable cloud compute.\n \n**Experiment** is a collection of related runs. For example, if you train different models to solve the same problem, you can group the training runs under the same experiment, and later compare their results.\n \n**Workspace** is an Azure resource that contains your experiments, models, deployments and cloud compute resources.\n\nTo illustrate these concepts, we use a simple example of Monte Carlo simulation to estimate pi. You first connect to your workspace, create an experiment that will contains the different simulation runs, and then launch a run and log the progress on Monte Carlo simulation."
    },
    {
      "metadata": {},
      "cell_type": "markdown",
      "source": "First, let's import the Python packages and load your workspace. When you run *ws = Workspace.from_config* below, you will be prompted to log in to your Azure subscription. Once you are connected to your workspace in Azure cloud, you can start experimenting."
    },
    {
      "metadata": {
        "trusted": true
      },
      "cell_type": "code",
      "source": "!pip install pydocumentdb",
      "execution_count": 13,
      "outputs": [
        {
          "output_type": "stream",
          "text": "Collecting pydocumentdb\n  Using cached https://files.pythonhosted.org/packages/cf/53/310ef5bd836e54f8a8c3d4da8c9a8c9b21c6bb362665e018eb27c41a1518/pydocumentdb-2.3.3.tar.gz\nRequirement already satisfied: six>=1.6 in /home/nbuser/anaconda3_501/lib/python3.6/site-packages (from pydocumentdb) (1.11.0)\nRequirement already satisfied: requests>=2.10.0 in /home/nbuser/anaconda3_501/lib/python3.6/site-packages (from pydocumentdb) (2.21.0)\nRequirement already satisfied: certifi>=2017.4.17 in /home/nbuser/anaconda3_501/lib/python3.6/site-packages (from requests>=2.10.0->pydocumentdb) (2018.10.15)\nRequirement already satisfied: idna<2.9,>=2.5 in /home/nbuser/anaconda3_501/lib/python3.6/site-packages (from requests>=2.10.0->pydocumentdb) (2.7)\nRequirement already satisfied: urllib3<1.25,>=1.21.1 in /home/nbuser/anaconda3_501/lib/python3.6/site-packages (from requests>=2.10.0->pydocumentdb) (1.23)\nRequirement already satisfied: chardet<3.1.0,>=3.0.2 in /home/nbuser/anaconda3_501/lib/python3.6/site-packages (from requests>=2.10.0->pydocumentdb) (3.0.4)\nBuilding wheels for collected packages: pydocumentdb\n  Building wheel for pydocumentdb (setup.py) ... \u001b[?25ldone\n\u001b[?25h  Stored in directory: /home/nbuser/.cache/pip/wheels/12/75/87/f3728f9217c548355acf03cf1ad82bb3e439cefd5f23bdea8b\nSuccessfully built pydocumentdb\nInstalling collected packages: pydocumentdb\nSuccessfully installed pydocumentdb-2.3.3\n",
          "name": "stdout"
        }
      ]
    },
    {
      "metadata": {
        "trusted": true
      },
      "cell_type": "code",
      "source": "from azureml.core import Workspace, Experiment, Run\nimport math, random, pickle\n\nfrom pydocumentdb import document_client",
      "execution_count": 25,
      "outputs": []
    },
    {
      "metadata": {},
      "cell_type": "markdown",
      "source": "Run the next cell and follow the prompt to use device login to connect to Azure. Ignore any warnings about failing to load or parse files."
    },
    {
      "metadata": {
        "trusted": true
      },
      "cell_type": "code",
      "source": "ws = Workspace.from_config()",
      "execution_count": 26,
      "outputs": [
        {
          "output_type": "stream",
          "text": "Warning: Falling back to use azure cli login credentials.\nIf you run your code in unattended mode, i.e., where you can't give a user input, then we recommend to use ServicePrincipalAuthentication or MsiAuthentication.\nPlease refer to aka.ms/aml-notebook-auth for different authentication mechanisms in azureml-sdk.\n",
          "name": "stderr"
        },
        {
          "output_type": "stream",
          "text": "Found the config file in: /home/nbuser/library/config.json\nPerforming interactive authentication. Please follow the instructions on the terminal.\nTo sign in, use a web browser to open the page https://microsoft.com/devicelogin and enter the code FXU6MJ8B6 to authenticate.\nInteractive authentication successfully completed.\n",
          "name": "stdout"
        }
      ]
    },
    {
      "metadata": {},
      "cell_type": "markdown",
      "source": "Let's create an experiment. The experiment is bound to a workspace, and contains the methods to launch runs."
    },
    {
      "metadata": {
        "trusted": true
      },
      "cell_type": "code",
      "source": "experiment = Experiment(workspace = ws, name = \"my-first-experiment\")",
      "execution_count": 27,
      "outputs": []
    },
    {
      "metadata": {},
      "cell_type": "markdown",
      "source": "Cell to load data from cosmos DB:"
    },
    {
      "metadata": {
        "trusted": true
      },
      "cell_type": "code",
      "source": "uri = 'https://vivid.documents.azure.com:443/'\nkey = 'b8lUbi0lwLyd8PR9onWM10sZhDJ4AkcIsb99FNkDu7zhcWkrpTSXYfITBvf6w2i1uSPDoGnshd3tF3MfN7Zv0Q=='\n\nclient = document_client.DocumentClient(uri, {'masterKey': key})\n\ndb_id = 'taskDatabase'\ndb_query = \"select * from r where r.id = '{0}'\".format(db_id)\ndb = list(client.QueryDatabases(db_query))[0]\ndb_link = db['_self']\n\ncoll_id = 'MyCollection'\ncoll_query = \"select * from r where r.id = '{0}'\".format(coll_id)\ncoll = list(client.QueryCollections(db_link, coll_query))[0]\ncoll_link = coll['_self']\n\ndocs = client.ReadDocuments(coll_link)",
      "execution_count": 28,
      "outputs": []
    },
    {
      "metadata": {},
      "cell_type": "markdown",
      "source": "Next, let's start a run to estimate Pi value. While the experiment is running, we log metrics about the accuracy of the estimate into run history.\n\nLet's also save the value of pi as a file, and upload that file into run history. In the next notebook we'll use the value in the file to create a web service that computes an area of a circle using our estimate."
    },
    {
      "metadata": {
        "trusted": true
      },
      "cell_type": "code",
      "source": "import pandas as pd\ndata = pd.read_csv('dummyData.csv')",
      "execution_count": 29,
      "outputs": []
    },
    {
      "metadata": {
        "trusted": true
      },
      "cell_type": "code",
      "source": "import numpy as np\ndata['PREG'] = np.random.choice([True, False], data.shape[0])",
      "execution_count": 30,
      "outputs": []
    },
    {
      "metadata": {
        "trusted": true
      },
      "cell_type": "code",
      "source": "from sklearn.model_selection import train_test_split\nfrom sklearn.ensemble import RandomForestClassifier\n\nrun = experiment.start_logging()\n\n'''\ndata needs to be loaded from true data not dummy\n'''\ny = data[['PREG']]\nx = data[['DIMB_i', 'DATB_i', 'THI', 'YEILD', 'LACT', 'PROTEIN', 'LACTOSE', 'FAT']]\n\n\nxTrain, xTest, yTrain, yTest = train_test_split(x,y,test_size=0.2)\n\nclf = RandomForestClassifier(n_estimators=100, max_depth=100, random_state=0)\nclf.fit(xTrain,yTrain)\n\n# Write file containing pi value into run history\nwith open(\"random_forest_model.pkl\",\"wb\") as f:\n    pickle.dump(clf,f)\nrun.upload_file(name = 'outputs/random_forest_model.pkl', path_or_stream = './random_forest_model.pkl')\n\n# Complete tracking and get link to details\nrun.complete()\nprint(\"Training Complete\")\n",
      "execution_count": 33,
      "outputs": [
        {
          "output_type": "stream",
          "text": "/home/nbuser/anaconda3_501/lib/python3.6/site-packages/ipykernel/__main__.py:16: DataConversionWarning: A column-vector y was passed when a 1d array was expected. Please change the shape of y to (n_samples,), for example using ravel().\n",
          "name": "stderr"
        },
        {
          "output_type": "stream",
          "text": "Training Complete\n",
          "name": "stdout"
        }
      ]
    },
    {
      "metadata": {
        "trusted": true
      },
      "cell_type": "code",
      "source": "'''\n    dummy cell, do not run, !!DELETE\n'''\nrun = experiment.start_logging()\n\npi_counter = 0\nn_iter = 100000\n\n# Log total number of iterations\nrun.log(\"Number of iterations\",n_iter)\n\nfor i in range(1,n_iter):\n    # Monte Carlo step to update estimate\n    x = random.random()\n    y = random.random()\n    if x*x + y*y < 1.0:\n        pi_counter += 1\n    pi_estimate = 4.0*pi_counter / i\n    \n    # Log convergence every 10000 iterations\n    if i%10000==0:\n        error = math.pi-pi_estimate\n        run.log(\"Pi estimate\",pi_estimate)\n        run.log(\"Error\",error)\n\n# Log final results\nrun.log(\"Final estimate\",pi_estimate)\nrun.log(\"Final error\",math.pi-pi_estimate)\n\n# Write file containing pi value into run history\nwith open(\"pi_estimate.txt\",\"wb\") as f:\n    pickle.dump(str(pi_estimate),f)\nrun.upload_file(name = 'outputs/pi_estimate.txt', path_or_stream = './pi_estimate.txt')\n\n# Complete tracking and get link to details\nrun.complete()\nprint(\"Run completed\")",
      "execution_count": 5,
      "outputs": [
        {
          "output_type": "stream",
          "text": "Run completed\n",
          "name": "stdout"
        }
      ]
    },
    {
      "metadata": {},
      "cell_type": "markdown",
      "source": "Once the run has completed, you can view a detailed report of the run from Azure Portal by simply calling \"run\" and following the link. You can view the convergence of estimate, as well as the uploaded file."
    },
    {
      "metadata": {
        "trusted": false
      },
      "cell_type": "code",
      "source": "run",
      "execution_count": null,
      "outputs": []
    },
    {
      "metadata": {
        "slideshow": {
          "slide_type": "slide"
        }
      },
      "cell_type": "markdown",
      "source": "You can also view all runs within an experiment. If you run the simulation above multiple times, these runs will appear under the experiment view and you can compare them."
    },
    {
      "metadata": {
        "trusted": true
      },
      "cell_type": "code",
      "source": "experiment",
      "execution_count": null,
      "outputs": []
    },
    {
      "metadata": {},
      "cell_type": "markdown",
      "source": "Next, learn how to deploy a web service that computes the area of circle using your estimate using following Notebook:\n\n[Deploy web service](02.deploy-web-service.ipynb)\n\nFor an example using scikit-learn using Azure compute to train image classification model, see:\n\n[tutorials/img-classification-part1-training](./tutorials/img-classification-part1-training.ipynb)"
    },
    {
      "metadata": {
        "trusted": false
      },
      "cell_type": "code",
      "source": "",
      "execution_count": null,
      "outputs": []
    }
  ],
  "metadata": {
    "kernelspec": {
      "name": "python36",
      "display_name": "Python 3.6",
      "language": "python"
    },
    "language_info": {
      "mimetype": "text/x-python",
      "nbconvert_exporter": "python",
      "name": "python",
      "pygments_lexer": "ipython3",
      "version": "3.6.6",
      "file_extension": ".py",
      "codemirror_mode": {
        "version": 3,
        "name": "ipython"
      }
    }
  },
  "nbformat": 4,
  "nbformat_minor": 2
}