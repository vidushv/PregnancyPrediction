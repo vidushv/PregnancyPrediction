{
  "cells": [
    {
      "metadata": {},
      "cell_type": "markdown",
      "source": "Copyright (c) Microsoft Corporation. All rights reserved.\n\nLicensed under the MIT License."
    },
    {
      "metadata": {},
      "cell_type": "markdown",
      "source": "## Introduction to Azure Machine Learning service: Run experiment\n\nIn this example, you'll learn how to use Azure Machine Learning for experimentation. The concepts you'll learn about are workspace, experiment and run.\n\n**Run** is a an execution of Python code that does a machine learning task, such as training a model. Within a run you can log metrics and upload results to Azure cloud, to keep track of your experimentation. \n \nIn this example, the run is a simple notebook cell, but in subsequent tutorials you can learn how to submit different kinds of runs - hyperparameter tuning, automated machine learning, distributed training - to scalable cloud compute.\n \n**Experiment** is a collection of related runs. For example, if you train different models to solve the same problem, you can group the training runs under the same experiment, and later compare their results.\n \n**Workspace** is an Azure resource that contains your experiments, models, deployments and cloud compute resources.\n\nTo illustrate these concepts, we use a simple example of Monte Carlo simulation to estimate pi. You first connect to your workspace, create an experiment that will contains the different simulation runs, and then launch a run and log the progress on Monte Carlo simulation."
    },
    {
      "metadata": {},
      "cell_type": "markdown",
      "source": "First, let's import the Python packages and load your workspace. When you run *ws = Workspace.from_config* below, you will be prompted to log in to your Azure subscription. Once you are connected to your workspace in Azure cloud, you can start experimenting."
    },
    {
      "metadata": {
        "trusted": true
      },
      "cell_type": "code",
      "source": "!pip install pydocumentdb",
      "execution_count": 1,
      "outputs": [
        {
          "output_type": "stream",
          "text": "Collecting pydocumentdb\n\u001b[?25l  Downloading https://files.pythonhosted.org/packages/cf/53/310ef5bd836e54f8a8c3d4da8c9a8c9b21c6bb362665e018eb27c41a1518/pydocumentdb-2.3.3.tar.gz (104kB)\n\u001b[K     |████████████████████████████████| 112kB 3.7MB/s eta 0:00:01\n\u001b[?25hRequirement already satisfied: six>=1.6 in /home/nbuser/anaconda3_501/lib/python3.6/site-packages (from pydocumentdb) (1.11.0)\nRequirement already satisfied: requests>=2.10.0 in /home/nbuser/anaconda3_501/lib/python3.6/site-packages (from pydocumentdb) (2.21.0)\nRequirement already satisfied: idna<2.9,>=2.5 in /home/nbuser/anaconda3_501/lib/python3.6/site-packages (from requests>=2.10.0->pydocumentdb) (2.7)\nRequirement already satisfied: chardet<3.1.0,>=3.0.2 in /home/nbuser/anaconda3_501/lib/python3.6/site-packages (from requests>=2.10.0->pydocumentdb) (3.0.4)\nRequirement already satisfied: certifi>=2017.4.17 in /home/nbuser/anaconda3_501/lib/python3.6/site-packages (from requests>=2.10.0->pydocumentdb) (2018.10.15)\nRequirement already satisfied: urllib3<1.25,>=1.21.1 in /home/nbuser/anaconda3_501/lib/python3.6/site-packages (from requests>=2.10.0->pydocumentdb) (1.23)\nBuilding wheels for collected packages: pydocumentdb\n  Building wheel for pydocumentdb (setup.py) ... \u001b[?25ldone\n\u001b[?25h  Stored in directory: /home/nbuser/.cache/pip/wheels/12/75/87/f3728f9217c548355acf03cf1ad82bb3e439cefd5f23bdea8b\nSuccessfully built pydocumentdb\nInstalling collected packages: pydocumentdb\nSuccessfully installed pydocumentdb-2.3.3\n",
          "name": "stdout"
        }
      ]
    },
    {
      "metadata": {
        "trusted": true
      },
      "cell_type": "code",
      "source": "from azureml.core import Workspace, Experiment, Run\nimport math, random, pickle\n\nfrom pydocumentdb import document_client",
      "execution_count": 2,
      "outputs": []
    },
    {
      "metadata": {},
      "cell_type": "markdown",
      "source": "Run the next cell and follow the prompt to use device login to connect to Azure. Ignore any warnings about failing to load or parse files."
    },
    {
      "metadata": {
        "trusted": true
      },
      "cell_type": "code",
      "source": "ws = Workspace.from_config()",
      "execution_count": 3,
      "outputs": [
        {
          "output_type": "stream",
          "text": "Performing interactive authentication. Please follow the instructions on the terminal.\nTo sign in, use a web browser to open the page https://microsoft.com/devicelogin and enter the code FZNE9J6UF to authenticate.\nInteractive authentication successfully completed.\n",
          "name": "stdout"
        }
      ]
    },
    {
      "metadata": {},
      "cell_type": "markdown",
      "source": "Let's create an experiment. The experiment is bound to a workspace, and contains the methods to launch runs."
    },
    {
      "metadata": {
        "trusted": true
      },
      "cell_type": "code",
      "source": "experiment = Experiment(workspace = ws, name = \"my-first-experiment\")",
      "execution_count": 4,
      "outputs": []
    },
    {
      "metadata": {},
      "cell_type": "markdown",
      "source": "Cell to load data from cosmos DB:"
    },
    {
      "metadata": {
        "trusted": true
      },
      "cell_type": "code",
      "source": "uri = 'https://vivid.documents.azure.com:443/'\nkey = 'b8lUbi0lwLyd8PR9onWM10sZhDJ4AkcIsb99FNkDu7zhcWkrpTSXYfITBvf6w2i1uSPDoGnshd3tF3MfN7Zv0Q=='\n\nclient = document_client.DocumentClient(uri, {'masterKey': key})\n\ndb_id = 'taskDatabase'\ndb_query = \"select * from r where r.id = '{0}'\".format(db_id)\ndb = list(client.QueryDatabases(db_query))[0]\ndb_link = db['_self']\n\ncoll_id = 'MyCollection'\ncoll_query = \"select * from r where r.id = '{0}'\".format(coll_id)\ncoll = list(client.QueryCollections(db_link, coll_query))[0]\ncoll_link = coll['_self']\n\ndocs = client.ReadDocuments(coll_link)",
      "execution_count": 5,
      "outputs": []
    },
    {
      "metadata": {
        "trusted": true
      },
      "cell_type": "code",
      "source": "'''\ndf = pd.DataFrame()\nfor doc in docs:\n    \n    pd.concat([df, row])\n'''\nimport json\ndf = pd.DataFrame(pd.DataFrame.from_dict((doc) for doc in docs))",
      "execution_count": 34,
      "outputs": []
    },
    {
      "metadata": {
        "trusted": true
      },
      "cell_type": "code",
      "source": "df = df[['daily_prod', 'ID', 'label', 'lact_d', 'lact_n', 'lbd_d']].drop_duplicates()",
      "execution_count": 35,
      "outputs": []
    },
    {
      "metadata": {},
      "cell_type": "markdown",
      "source": "Next, let's start a run to estimate Pi value. While the experiment is running, we log metrics about the accuracy of the estimate into run history.\n\nLet's also save the value of pi as a file, and upload that file into run history. In the next notebook we'll use the value in the file to create a web service that computes an area of a circle using our estimate."
    },
    {
      "metadata": {
        "trusted": true
      },
      "cell_type": "code",
      "source": "df.columns",
      "execution_count": 36,
      "outputs": [
        {
          "output_type": "execute_result",
          "execution_count": 36,
          "data": {
            "text/plain": "Index(['daily_prod', 'ID', 'label', 'lact_d', 'lact_n', 'lbd_d'], dtype='object')"
          },
          "metadata": {}
        }
      ]
    },
    {
      "metadata": {},
      "cell_type": "markdown",
      "source": "### Training the ML Model"
    },
    {
      "metadata": {
        "trusted": true
      },
      "cell_type": "code",
      "source": "from sklearn.model_selection import train_test_split\nfrom sklearn.ensemble import RandomForestClassifier\n\nrun = experiment.start_logging()\n\n'''\ndata needs to be loaded from true data not dummy\n'''\ny = df[['label']]\nx = df[['daily_prod', 'lact_d', 'lact_n', 'lbd_d']]\n\n\nxTrain, xTest, yTrain, yTest = train_test_split(x,y,test_size=0.2)\n\nclf = RandomForestClassifier(n_estimators=100, max_depth=100, random_state=0)\nclf.fit(xTrain,yTrain)",
      "execution_count": 39,
      "outputs": [
        {
          "output_type": "stream",
          "text": "/home/nbuser/anaconda3_501/lib/python3.6/site-packages/ipykernel/__main__.py:16: DataConversionWarning: A column-vector y was passed when a 1d array was expected. Please change the shape of y to (n_samples,), for example using ravel().\n",
          "name": "stderr"
        },
        {
          "output_type": "execute_result",
          "execution_count": 39,
          "data": {
            "text/plain": "RandomForestClassifier(bootstrap=True, class_weight=None, criterion='gini',\n            max_depth=100, max_features='auto', max_leaf_nodes=None,\n            min_impurity_decrease=0.0, min_impurity_split=None,\n            min_samples_leaf=1, min_samples_split=2,\n            min_weight_fraction_leaf=0.0, n_estimators=100, n_jobs=None,\n            oob_score=False, random_state=0, verbose=0, warm_start=False)"
          },
          "metadata": {}
        }
      ]
    },
    {
      "metadata": {},
      "cell_type": "markdown",
      "source": "### Testing the ML Model"
    },
    {
      "metadata": {
        "trusted": true
      },
      "cell_type": "code",
      "source": "clf.score(xTest, yTest)",
      "execution_count": 40,
      "outputs": [
        {
          "output_type": "execute_result",
          "execution_count": 40,
          "data": {
            "text/plain": "0.9076949326053575"
          },
          "metadata": {}
        }
      ]
    },
    {
      "metadata": {
        "trusted": true
      },
      "cell_type": "code",
      "source": "# Write file containing pi value into run history\nwith open(\"random_forest_model.pkl\",\"wb\") as f:\n    pickle.dump(clf,f)\nrun.upload_file(name = 'outputs/random_forest_model.pkl', path_or_stream = './random_forest_model.pkl')\n\n# Complete tracking and get link to details\nrun.complete()\nprint(\"Training Complete\")",
      "execution_count": 41,
      "outputs": [
        {
          "output_type": "stream",
          "text": "Training Complete\n",
          "name": "stdout"
        }
      ]
    },
    {
      "metadata": {
        "trusted": true
      },
      "cell_type": "code",
      "source": "from azureml.core.model import Model\n\nmodel = Model.register(model_path = \"random_forest_model.pkl\",\n                       model_name = \"cowPredictor\",\n                       description = \"predicts cow pregnancy\",\n                       workspace = ws)",
      "execution_count": 42,
      "outputs": [
        {
          "output_type": "stream",
          "text": "Registering model cowPredictor\n",
          "name": "stdout"
        }
      ]
    },
    {
      "metadata": {},
      "cell_type": "markdown",
      "source": "Once the run has completed, you can view a detailed report of the run from Azure Portal by simply calling \"run\" and following the link. You can view the convergence of estimate, as well as the uploaded file."
    },
    {
      "metadata": {
        "trusted": true
      },
      "cell_type": "code",
      "source": "run",
      "execution_count": 43,
      "outputs": [
        {
          "output_type": "execute_result",
          "execution_count": 43,
          "data": {
            "text/html": "<table style=\"width:100%\"><tr><th>Experiment</th><th>Id</th><th>Type</th><th>Status</th><th>Details Page</th><th>Docs Page</th></tr><tr><td>my-first-experiment</td><td>8269f522-50c7-48f0-aad7-b62fca25745f</td><td></td><td>NotStarted</td><td><a href=\"https://mlworkspace.azure.ai/portal/subscriptions/3d9c6dd9-fcb4-4db3-a4e0-4529280beeab/resourceGroups/PregoNews3.0/providers/Microsoft.MachineLearningServices/workspaces/mlWorkspace/experiments/my-first-experiment/runs/8269f522-50c7-48f0-aad7-b62fca25745f\" target=\"_blank\" rel=\"noopener\">Link to Azure Portal</a></td><td><a href=\"https://docs.microsoft.com/en-us/python/api/azureml-core/azureml.core.run.Run?view=azure-ml-py\" target=\"_blank\" rel=\"noopener\">Link to Documentation</a></td></tr></table>",
            "text/plain": "Run(Experiment: my-first-experiment,\nId: 8269f522-50c7-48f0-aad7-b62fca25745f,\nType: None,\nStatus: NotStarted)"
          },
          "metadata": {}
        }
      ]
    },
    {
      "metadata": {
        "slideshow": {
          "slide_type": "slide"
        }
      },
      "cell_type": "markdown",
      "source": "You can also view all runs within an experiment. If you run the simulation above multiple times, these runs will appear under the experiment view and you can compare them."
    },
    {
      "metadata": {
        "trusted": true
      },
      "cell_type": "code",
      "source": "experiment",
      "execution_count": 44,
      "outputs": [
        {
          "output_type": "execute_result",
          "execution_count": 44,
          "data": {
            "text/html": "<table style=\"width:100%\"><tr><th>Name</th><th>Workspace</th><th>Report Page</th><th>Docs Page</th></tr><tr><td>my-first-experiment</td><td>mlWorkspace</td><td><a href=\"https://mlworkspace.azure.ai/portal/subscriptions/3d9c6dd9-fcb4-4db3-a4e0-4529280beeab/resourceGroups/PregoNews3.0/providers/Microsoft.MachineLearningServices/workspaces/mlWorkspace/experiments/my-first-experiment\" target=\"_blank\" rel=\"noopener\">Link to Azure Portal</a></td><td><a href=\"https://docs.microsoft.com/en-us/python/api/azureml-core/azureml.core.experiment.Experiment?view=azure-ml-py\" target=\"_blank\" rel=\"noopener\">Link to Documentation</a></td></tr></table>",
            "text/plain": "Experiment(Name: my-first-experiment,\nWorkspace: mlWorkspace)"
          },
          "metadata": {}
        }
      ]
    },
    {
      "metadata": {},
      "cell_type": "markdown",
      "source": "Next, learn how to deploy a web service that computes the area of circle using your estimate using following Notebook:\n\n[Deploy web service](02.deploy-web-service.ipynb)\n\nFor an example using scikit-learn using Azure compute to train image classification model, see:\n\n[tutorials/img-classification-part1-training](./tutorials/img-classification-part1-training.ipynb)"
    }
  ],
  "metadata": {
    "kernelspec": {
      "name": "python36",
      "display_name": "Python 3.6",
      "language": "python"
    },
    "language_info": {
      "mimetype": "text/x-python",
      "nbconvert_exporter": "python",
      "name": "python",
      "pygments_lexer": "ipython3",
      "version": "3.6.6",
      "file_extension": ".py",
      "codemirror_mode": {
        "version": 3,
        "name": "ipython"
      }
    }
  },
  "nbformat": 4,
  "nbformat_minor": 2
}